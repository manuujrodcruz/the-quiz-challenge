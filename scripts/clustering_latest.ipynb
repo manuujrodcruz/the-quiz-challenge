{
 "cells": [
  {
   "cell_type": "markdown",
   "metadata": {
    "cell_id": "7989312c8a7c493c9ad047f72c41c4fb",
    "deepnote_cell_type": "text-cell-h1",
    "formattedRanges": []
   },
   "source": [
    "# Modelo de Minería de Datos"
   ]
  },
  {
   "cell_type": "markdown",
   "metadata": {
    "cell_id": "ca34cb6da1db4d9d9698454c0f8d6c7c",
    "deepnote_app_block_visible": false,
    "deepnote_cell_type": "text-cell-h2",
    "formattedRanges": [],
    "is_collapsed": false
   },
   "source": [
    "## 1. Introducción"
   ]
  },
  {
   "cell_type": "markdown",
   "metadata": {
    "cell_id": "20f20ec62a8c4c8799101ea1ed602b48",
    "deepnote_app_block_visible": false,
    "deepnote_cell_type": "text-cell-h3",
    "formattedRanges": [],
    "is_collapsed": false
   },
   "source": [
    "### Descripción del proyecto:"
   ]
  },
  {
   "cell_type": "markdown",
   "metadata": {
    "cell_id": "741e45e657014ff68fbfc7e8356c4658",
    "deepnote_cell_type": "text-cell-p",
    "formattedRanges": [
     {
      "fromCodePoint": 89,
      "marks": {
       "bold": true
      },
      "toCodePoint": 107,
      "type": "marks"
     }
    ]
   },
   "source": [
    "Este proyecto trata de construir un modelo de minería de datos descriptivo que permita a The Quiz Challenge identificar qué tipo de videos deben producir para maximizar vistas y suscriptores."
   ]
  },
  {
   "cell_type": "markdown",
   "metadata": {
    "cell_id": "cd31f7d85aca480d81e40ceb29e7779f",
    "deepnote_app_block_visible": false,
    "deepnote_cell_type": "text-cell-h3",
    "formattedRanges": [],
    "is_collapsed": false
   },
   "source": [
    "### Tipo de Tarea Elegida:"
   ]
  },
  {
   "cell_type": "markdown",
   "metadata": {
    "cell_id": "7cbd7681a9fd48718f42e70214e8afce",
    "deepnote_cell_type": "text-cell-p",
    "formattedRanges": [
     {
      "fromCodePoint": 27,
      "marks": {
       "bold": true
      },
      "toCodePoint": 38,
      "type": "marks"
     }
    ]
   },
   "source": [
    "La tarea elegida fue la de Clustering porque vimos bien la manera en que con esta técnica podiamos agrupar videos similares basados en características relevantes para el crecimiento del canal."
   ]
  },
  {
   "cell_type": "markdown",
   "metadata": {
    "cell_id": "8d515c9b2b7c448bb2b680f6a7ee4fa1",
    "deepnote_cell_type": "text-cell-h2",
    "formattedRanges": []
   },
   "source": [
    "## 2. Objetivo del Modelo"
   ]
  },
  {
   "cell_type": "markdown",
   "metadata": {
    "cell_id": "49ae4fd31a9f44f0bd2b7f2f4d315fa9",
    "deepnote_app_block_visible": false,
    "deepnote_cell_type": "text-cell-h3",
    "formattedRanges": [],
    "is_collapsed": false
   },
   "source": [
    "### Objetivo General"
   ]
  },
  {
   "cell_type": "markdown",
   "metadata": {
    "cell_id": "dcb6ee81e53246dbae9eda1577c3300e",
    "deepnote_cell_type": "text-cell-p",
    "formattedRanges": [
     {
      "fromCodePoint": 38,
      "marks": {
       "bold": true
      },
      "toCodePoint": 98,
      "type": "marks"
     },
     {
      "fromCodePoint": 288,
      "marks": {
       "bold": true
      },
      "toCodePoint": 298,
      "type": "marks"
     }
    ]
   },
   "source": [
    "El objetivo general de este modelo es identificar patrones y tendencias en el contenido de videos que puedan ayudar al canal The Quiz Challenge a seleccionar temáticas para los videos con el fin de maximizar las vistas y la entrada de suscriptores. Esto se logrará mediante la técnica de Clustering, que agrupará videos similares basados en características relevantes."
   ]
  },
  {
   "cell_type": "markdown",
   "metadata": {
    "cell_id": "c4915344c33d4eeabb10427eaa680591",
    "deepnote_app_block_visible": false,
    "deepnote_cell_type": "text-cell-h2",
    "formattedRanges": [],
    "is_collapsed": false
   },
   "source": [
    "## 3. Datos Utilizados"
   ]
  },
  {
   "cell_type": "markdown",
   "metadata": {
    "cell_id": "5cd78c4df03a42f29101908f46a27d49",
    "deepnote_cell_type": "text-cell-h3",
    "formattedRanges": []
   },
   "source": [
    "### Descripción del Conjunto de Datos:"
   ]
  },
  {
   "cell_type": "markdown",
   "metadata": {
    "cell_id": "ced4804532434d8b9c57b6459dc14820",
    "deepnote_app_block_visible": false,
    "deepnote_cell_type": "text-cell-bullet",
    "formattedRanges": [
     {
      "fromCodePoint": 0,
      "marks": {
       "bold": true
      },
      "toCodePoint": 8,
      "type": "marks"
     }
    ],
    "is_collapsed": false
   },
   "source": [
    "- Fuente: video_data_for_clustering.csv"
   ]
  },
  {
   "cell_type": "markdown",
   "metadata": {
    "cell_id": "2a8a8a2d905d4a82880b85a4d0e451de",
    "deepnote_app_block_visible": false,
    "deepnote_cell_type": "text-cell-bullet",
    "formattedRanges": [
     {
      "fromCodePoint": 0,
      "marks": {
       "bold": true
      },
      "toCodePoint": 23,
      "type": "marks"
     }
    ],
    "is_collapsed": false
   },
   "source": [
    "- Características Clave: vistas, tiempo de reproducción (horas), suscriptores, duración promedio de vistas (segundos), impresiones, tasa de clics."
   ]
  },
  {
   "cell_type": "markdown",
   "metadata": {
    "cell_id": "bf94473241f847009115d0d4efd9d20b",
    "deepnote_cell_type": "text-cell-h3",
    "formattedRanges": []
   },
   "source": [
    "### Integración de Fuentes Adicionales:"
   ]
  },
  {
   "cell_type": "markdown",
   "metadata": {
    "cell_id": "98f5b376f4cb4d2e9f24faac631633f8",
    "deepnote_cell_type": "text-cell-p",
    "formattedRanges": []
   },
   "source": [
    "Se considerará la integración de datos demográficos o tendencias actuales en Youtube para enriquecer el análisis, agregamos columnas como:"
   ]
  },
  {
   "cell_type": "markdown",
   "metadata": {
    "cell_id": "3133bcdc8d9644579e258145cf132e60",
    "deepnote_cell_type": "text-cell-bullet",
    "formattedRanges": [
     {
      "fromCodePoint": 0,
      "marks": {
       "bold": true
      },
      "toCodePoint": 11,
      "type": "marks"
     }
    ]
   },
   "source": [
    "- Categoría: para clasificar los videos por categorías similares."
   ]
  },
  {
   "cell_type": "markdown",
   "metadata": {
    "cell_id": "0d56091c92434af58227a22f2c65d2a7",
    "deepnote_cell_type": "text-cell-bullet",
    "formattedRanges": [
     {
      "fromCodePoint": 0,
      "marks": {
       "bold": true
      },
      "toCodePoint": 10,
      "type": "marks"
     }
    ]
   },
   "source": [
    "- is_short: para identificar los videos que son shorts o que son videos normales."
   ]
  },
  {
   "cell_type": "markdown",
   "metadata": {
    "cell_id": "a8e9902035424fefa4d2ec570e33d934",
    "deepnote_cell_type": "text-cell-bullet",
    "formattedRanges": [
     {
      "fromCodePoint": 0,
      "marks": {
       "bold": true
      },
      "toCodePoint": 26,
      "type": "marks"
     }
    ]
   },
   "source": [
    "- has_emojis y has_hashtags: para identificar si los videos tienen emojis o hashtags en el título."
   ]
  },
  {
   "cell_type": "markdown",
   "metadata": {
    "cell_id": "a0be776e169f4f37b9b6b8af56a4f714",
    "deepnote_cell_type": "text-cell-bullet",
    "formattedRanges": [
     {
      "fromCodePoint": 0,
      "marks": {
       "bold": true
      },
      "toCodePoint": 24,
      "type": "marks"
     }
    ]
   },
   "source": [
    "- country_with_max_views: para saber cuál país tiene el mayor numero de vistas."
   ]
  },
  {
   "cell_type": "markdown",
   "metadata": {
    "cell_id": "6e6a19ccb8ad4ae9a7da6580eb51b370",
    "deepnote_cell_type": "text-cell-bullet",
    "formattedRanges": [
     {
      "fromCodePoint": 0,
      "marks": {
       "bold": true
      },
      "toCodePoint": 46,
      "type": "marks"
     }
    ]
   },
   "source": [
    "- total_subscriptions y total_subscription_loss: para ver como va cambiando el flujo de suscripciones a medida que suben videos."
   ]
  },
  {
   "cell_type": "markdown",
   "metadata": {
    "cell_id": "aeaa9b503d6d41349fbbb6f093975d82",
    "deepnote_app_block_visible": false,
    "deepnote_cell_type": "text-cell-h2",
    "formattedRanges": [],
    "is_collapsed": false
   },
   "source": [
    "## 4. Preprocesamiento de Datos"
   ]
  },
  {
   "cell_type": "markdown",
   "metadata": {
    "cell_id": "cb02742ae7d0408799830920f3265860",
    "deepnote_cell_type": "text-cell-h3",
    "formattedRanges": []
   },
   "source": [
    "### Librerías Importadas:"
   ]
  },
  {
   "cell_type": "code",
   "execution_count": 2,
   "metadata": {
    "cell_id": "f6c1ff78f4ba4990978bd229c9d58d34",
    "deepnote_cell_type": "code",
    "execution_context_id": "8021125d-b894-465f-8894-0c7c30edd156",
    "execution_millis": 1046,
    "execution_start": 1732710690183,
    "source_hash": "9c8407d7"
   },
   "outputs": [],
   "source": [
    "import pandas as pd\n",
    "import numpy as np\n",
    "import matplotlib.pyplot as plt\n",
    "from sklearn.preprocessing import StandardScaler\n",
    "from sklearn.cluster import KMeans\n",
    "from sklearn.decomposition import PCA\n",
    "from sklearn.preprocessing import LabelEncoder\n",
    "from sklearn.metrics import silhouette_score"
   ]
  },
  {
   "cell_type": "markdown",
   "metadata": {
    "cell_id": "f0bb71cb675641c8a5606bf757b89422",
    "deepnote_cell_type": "text-cell-h3",
    "formattedRanges": []
   },
   "source": [
    "### Carga y Transformación de Datos:"
   ]
  },
  {
   "cell_type": "code",
   "execution_count": null,
   "metadata": {
    "cell_id": "0cedf9dcdf384422a990b830af457f07",
    "deepnote_cell_type": "code"
   },
   "outputs": [],
   "source": [
    "data = pd.read_csv('video_data_for_clustering.csv')\n",
    "data['Duración promedio de vistas'] = pd.to_timedelta(data['Duración promedio de vistas']).dt.total_seconds()"
   ]
  },
  {
   "cell_type": "markdown",
   "metadata": {
    "cell_id": "cca4a04252bf4ce7b71c6fa1719416be",
    "deepnote_cell_type": "text-cell-h3",
    "formattedRanges": []
   },
   "source": [
    "### Seleccion de Características:"
   ]
  },
  {
   "cell_type": "code",
   "execution_count": null,
   "metadata": {
    "cell_id": "8dfa7586eed74052882b45de014d4486",
    "deepnote_cell_type": "code"
   },
   "outputs": [],
   "source": [
    "numerical_cols = ['Vistas', 'Tiempo de reproducción (horas)', 'Suscriptores', \n",
    "                 'Duración promedio de vistas', 'Impresiones', \n",
    "                 'Tasa de clics de las impresiones (%)', 'views_until_next_video', \n",
    "                 'total_subscriptions', 'total_subscription_loss']\n",
    "\n",
    "categorical_cols = ['Categoría', 'is_short', 'has_emojis', 'has_hashtags', \n",
    "                   'country_with_max_views']"
   ]
  },
  {
   "cell_type": "code",
   "execution_count": null,
   "metadata": {
    "cell_id": "2f56a2277bc84483afa60834eec8faa3",
    "deepnote_cell_type": "code"
   },
   "outputs": [],
   "source": [
    "le = LabelEncoder()\n",
    "features = data[numerical_cols].copy()"
   ]
  },
  {
   "cell_type": "code",
   "execution_count": null,
   "metadata": {
    "cell_id": "e4ce1071d12945a981a4d65745039730",
    "deepnote_cell_type": "code"
   },
   "outputs": [],
   "source": [
    "for col in categorical_cols:\n",
    "    if col in data.columns:\n",
    "        features[col] = le.fit_transform(data[col].astype(str))"
   ]
  },
  {
   "cell_type": "markdown",
   "metadata": {
    "cell_id": "9f87d58558fe4df1997a67181dd17672",
    "deepnote_app_block_visible": false,
    "deepnote_cell_type": "text-cell-h2",
    "formattedRanges": [],
    "is_collapsed": false
   },
   "source": [
    "## 5. Escalado y Reducción de Dimensionalidad"
   ]
  },
  {
   "cell_type": "markdown",
   "metadata": {
    "cell_id": "3e510c922f90423abf36fedea8cfbddf",
    "deepnote_cell_type": "text-cell-h3",
    "formattedRanges": []
   },
   "source": [
    "### Normalización:"
   ]
  },
  {
   "cell_type": "code",
   "execution_count": null,
   "metadata": {
    "cell_id": "4c17dbd0ecf340ef8f7c18b4d8926257",
    "deepnote_cell_type": "code"
   },
   "outputs": [],
   "source": [
    "scaler = StandardScaler()\n",
    "features_scaled = scaler.fit_transform(features)"
   ]
  },
  {
   "cell_type": "markdown",
   "metadata": {
    "cell_id": "eac694743080482bb7be6969c119e1be",
    "deepnote_cell_type": "text-cell-h3",
    "formattedRanges": []
   },
   "source": [
    "### Reducción con PCA:"
   ]
  },
  {
   "cell_type": "code",
   "execution_count": null,
   "metadata": {
    "cell_id": "fc1e557a5b26405187de7141e7ca9dc9",
    "deepnote_cell_type": "code"
   },
   "outputs": [],
   "source": [
    "pca_initial = PCA()\n",
    "features_pca_initial = pca_initial.fit_transform(features_scaled)\n",
    "cumsum = np.cumsum(pca_initial.explained_variance_ratio_)\n",
    "n_components = np.argmax(cumsum > 0.4) + 1"
   ]
  },
  {
   "cell_type": "code",
   "execution_count": null,
   "metadata": {
    "cell_id": "b70031790c424a1ba13bf1e0dfbb5b0b",
    "deepnote_cell_type": "code"
   },
   "outputs": [],
   "source": [
    "print(f\"Número de componentes seleccionados: {n_components}\")"
   ]
  },
  {
   "cell_type": "code",
   "execution_count": null,
   "metadata": {
    "cell_id": "c4c8f0b6d64d4a17b7c9b91df69e85f1",
    "deepnote_cell_type": "code"
   },
   "outputs": [],
   "source": [
    "pca = PCA(n_components=n_components)\n",
    "features_pca = pca.fit_transform(features_scaled)"
   ]
  },
  {
   "cell_type": "markdown",
   "metadata": {
    "cell_id": "d4c8cfc8c4fc4779a50647391f7a5acc",
    "deepnote_cell_type": "text-cell-h1",
    "formattedRanges": []
   },
   "source": [
    "# 6. Construcción del Modelo"
   ]
  },
  {
   "cell_type": "markdown",
   "metadata": {
    "cell_id": "d7946eb1e69c4fbaabca851cc97795b5",
    "deepnote_cell_type": "text-cell-h3",
    "formattedRanges": []
   },
   "source": [
    "### Aplicación del Algoritmo K-Means:"
   ]
  },
  {
   "cell_type": "code",
   "execution_count": null,
   "metadata": {
    "cell_id": "58b39bdc5a9a4d9bbcfa497a1185f1d0",
    "deepnote_cell_type": "code"
   },
   "outputs": [],
   "source": [
    "inertia = []\n",
    "silhouette_scores = []\n",
    "K = range(2, 11)\n",
    "\n",
    "for k in K:\n",
    "    kmeans = KMeans(n_clusters=k, random_state=42, n_init=10)\n",
    "    kmeans.fit(features_pca)\n",
    "    inertia.append(kmeans.inertia_)\n",
    "    silhouette_scores.append(silhouette_score(features_pca, kmeans.labels_))"
   ]
  },
  {
   "cell_type": "markdown",
   "metadata": {
    "cell_id": "6150d2420b784f018fd8ebd001b6b7f7",
    "deepnote_cell_type": "text-cell-h1",
    "formattedRanges": []
   },
   "source": [
    "# 7. Evaluación del Modelo:"
   ]
  },
  {
   "cell_type": "markdown",
   "metadata": {
    "cell_id": "61ebba59389949a8bf55a41c793b35c6",
    "deepnote_cell_type": "text-cell-h3",
    "formattedRanges": []
   },
   "source": [
    "### Métricas Utilizadas:"
   ]
  },
  {
   "cell_type": "markdown",
   "metadata": {
    "cell_id": "34efc5441e00480e90e851d39c35f628",
    "deepnote_cell_type": "text-cell-bullet",
    "formattedRanges": [
     {
      "fromCodePoint": 0,
      "marks": {
       "bold": true
      },
      "toCodePoint": 8,
      "type": "marks"
     }
    ]
   },
   "source": [
    "- Inercia: Mide la compactación dentro de los clusters."
   ]
  },
  {
   "cell_type": "markdown",
   "metadata": {
    "cell_id": "dd4128f8fb4947b2a3471a164d07eba7",
    "deepnote_cell_type": "text-cell-bullet",
    "formattedRanges": [
     {
      "fromCodePoint": 0,
      "marks": {
       "bold": true
      },
      "toCodePoint": 24,
      "type": "marks"
     }
    ]
   },
   "source": [
    "- Coeficiente Silhouette: Evalúa dla separación entre clusters."
   ]
  },
  {
   "cell_type": "code",
   "execution_count": 11,
   "metadata": {
    "cell_id": "3427e6ab006f49a395a62a1d2f290835",
    "deepnote_cell_type": "code",
    "execution_context_id": "6ad47fc0-e9a1-4bc1-b040-6bf7ac42a285",
    "execution_millis": 1237,
    "execution_start": 1732672344302,
    "source_hash": "64532ff"
   },
   "outputs": [
    {
     "data": {
      "image/png": "[encoded data removed]",
      "text/plain": [
       "<Figure size 1500x500 with 2 Axes>"
      ]
     },
     "metadata": {
      "image/png": {
       "height": 490,
       "width": 1490
      }
     },
     "output_type": "display_data"
    }
   ],
   "source": [
    "# Gráfico del método del codo\n",
    "plt.figure(figsize=(15, 5))\n",
    "\n",
    "plt.subplot(1, 2, 1)\n",
    "plt.plot(K, inertia, 'bo-')\n",
    "plt.xlabel('Número de Clusters')\n",
    "plt.ylabel('Inercia')\n",
    "plt.title('Método del Codo')\n",
    "\n",
    "# Gráfico del coeficiente de silueta\n",
    "plt.subplot(1, 2, 2)\n",
    "plt.plot(K, silhouette_scores, 'bo-')\n",
    "plt.xlabel('Número de Clusters')\n",
    "plt.ylabel('Coeficiente de Silueta')\n",
    "plt.title('Coeficiente de Silueta')\n",
    "\n",
    "plt.tight_layout()\n",
    "plt.show()"
   ]
  },
  {
   "cell_type": "code",
   "execution_count": 12,
   "metadata": {
    "cell_id": "836b3706ca464fc798f1c1b50c8ba479",
    "deepnote_cell_type": "code",
    "execution_context_id": "7478061e-1390-41ff-a6e2-574036b6af81",
    "execution_millis": 1,
    "execution_start": 1732672345590,
    "source_hash": "8f3bb2a6"
   },
   "outputs": [],
   "source": [
    "optimal_k = 4\n",
    "kmeans = KMeans(n_clusters=optimal_k, random_state=42, n_init=10)\n",
    "cluster_labels = kmeans.fit_predict(features_pca)"
   ]
  },
  {
   "cell_type": "code",
   "execution_count": 13,
   "metadata": {
    "cell_id": "238bde361b564d9f9b7e27a93279a6b9",
    "deepnote_cell_type": "code",
    "execution_context_id": "7478061e-1390-41ff-a6e2-574036b6af81",
    "execution_millis": 0,
    "execution_start": 1732672345675,
    "source_hash": "66dc9ac9"
   },
   "outputs": [
    {
     "name": "stdout",
     "output_type": "stream",
     "text": [
      "\n",
      "\n",
      "Cluster 0:\n",
      "================================================================================\n",
      "\n",
      "Número de videos en el cluster: 3\n",
      "\n",
      "Promedios del cluster:\n",
      "Vistas promedio: 2,338.00\n",
      "Tiempo de reproducción promedio: 63.87 horas\n",
      "Tasa de clics promedio: 4.55%\n",
      "Porcentaje de Shorts: 0.00%\n",
      "Porcentaje con emojis: 0.00%\n",
      "Porcentaje con hashtags: 0.00%\n",
      "\n",
      "Top 5 videos en este cluster:\n",
      "--------------------------------------------------------------------------------\n",
      "Título: Harry Potter EXPERTS Only! Tricky Questions Ahead!\n",
      "Vistas: 3,246\n",
      "Tiempo de reproducción: 119.66 horas\n",
      "Tasa de clics: 3.95%\n",
      "Categoría: Películas y Cultura Pop\n",
      "País con más vistas: US\n",
      "--------------------------------------------------------------------------------\n",
      "Título: The Most Difficult Flag Quiz Ever (Can You Get Them All?)\n",
      "Vistas: 2,252\n",
      "Tiempo de reproducción: 27.72 horas\n",
      "Tasa de clics: 5.95%\n",
      "Categoría: Geografía y Banderas\n",
      "País con más vistas: US\n",
      "--------------------------------------------------------------------------------\n",
      "Título: Harry Potter | Facts Quiz\n",
      "Vistas: 1,516\n",
      "Tiempo de reproducción: 44.24 horas\n",
      "Tasa de clics: 3.74%\n",
      "Categoría: Películas y Cultura Pop\n",
      "País con más vistas: US\n",
      "--------------------------------------------------------------------------------\n",
      "\n",
      "\n",
      "Cluster 1:\n",
      "================================================================================\n",
      "\n",
      "Número de videos en el cluster: 21\n",
      "\n",
      "Promedios del cluster:\n",
      "Vistas promedio: 217.05\n",
      "Tiempo de reproducción promedio: 2.02 horas\n",
      "Tasa de clics promedio: 3.37%\n",
      "Porcentaje de Shorts: 52.38%\n",
      "Porcentaje con emojis: 0.00%\n",
      "Porcentaje con hashtags: 9.52%\n",
      "\n",
      "Top 5 videos en este cluster:\n",
      "--------------------------------------------------------------------------------\n",
      "Título: Would you rather… Olympics\n",
      "Vistas: 597\n",
      "Tiempo de reproducción: 3.92 horas\n",
      "Tasa de clics: 3.27%\n",
      "Categoría: Deportes y Eventos Internacionales\n",
      "País con más vistas: GB\n",
      "--------------------------------------------------------------------------------\n",
      "Título: Birds Quiz\n",
      "Vistas: 501\n",
      "Tiempo de reproducción: 2.82 horas\n",
      "Tasa de clics: 1.7%\n",
      "Categoría: Ciencia y Naturaleza\n",
      "País con más vistas: US\n",
      "--------------------------------------------------------------------------------\n",
      "Título: Would you rather... Olympics 2024 Moments #olympicgames #wouldyourather\n",
      "Vistas: 472\n",
      "Tiempo de reproducción: 2.31 horas\n",
      "Tasa de clics: 4.26%\n",
      "Categoría: Deportes y Eventos Internacionales\n",
      "País con más vistas: US\n",
      "--------------------------------------------------------------------------------\n",
      "Título: Euros quiz\n",
      "Vistas: 460\n",
      "Tiempo de reproducción: 2.66 horas\n",
      "Tasa de clics: 3.18%\n",
      "Categoría: Deportes y Eventos Internacionales\n",
      "País con más vistas: US\n",
      "--------------------------------------------------------------------------------\n",
      "Título: Euros Quiz  #2\n",
      "Vistas: 446\n",
      "Tiempo de reproducción: 2.10 horas\n",
      "Tasa de clics: 2.84%\n",
      "Categoría: Deportes y Eventos Internacionales\n",
      "País con más vistas: US\n",
      "--------------------------------------------------------------------------------\n",
      "\n",
      "\n",
      "Cluster 2:\n",
      "================================================================================\n",
      "\n",
      "Número de videos en el cluster: 10\n",
      "\n",
      "Promedios del cluster:\n",
      "Vistas promedio: 372.00\n",
      "Tiempo de reproducción promedio: 8.17 horas\n",
      "Tasa de clics promedio: 3.32%\n",
      "Porcentaje de Shorts: 30.00%\n",
      "Porcentaje con emojis: 50.00%\n",
      "Porcentaje con hashtags: 20.00%\n",
      "\n",
      "Top 5 videos en este cluster:\n",
      "--------------------------------------------------------------------------------\n",
      "Título: Would You Rather... Hardest Choices Edition\n",
      "Vistas: 639\n",
      "Tiempo de reproducción: 25.61 horas\n",
      "Tasa de clics: 2.42%\n",
      "Categoría: Juegos Would You Rather\n",
      "País con más vistas: US\n",
      "--------------------------------------------------------------------------------\n",
      "Título: Would You Rather ... 5 Tough Choices! 🤯 #shorts #wouldyourather\n",
      "Vistas: 560\n",
      "Tiempo de reproducción: 3.17 horas\n",
      "Tasa de clics: 5.19%\n",
      "Categoría: Juegos Would You Rather\n",
      "País con más vistas: US\n",
      "--------------------------------------------------------------------------------\n",
      "Título: Halloween SPECIAL EDITION Choose one button: Yes ✅ or No 🚫\n",
      "Vistas: 559\n",
      "Tiempo de reproducción: 11.90 horas\n",
      "Tasa de clics: 4.38%\n",
      "Categoría: Especiales y Festividades\n",
      "País con más vistas: US\n",
      "--------------------------------------------------------------------------------\n",
      "Título: Would You Rather...? 🚀 Space Edition! #Shorts\n",
      "Vistas: 469\n",
      "Tiempo de reproducción: 3.02 horas\n",
      "Tasa de clics: 4.31%\n",
      "Categoría: Ciencia y Naturaleza\n",
      "País con más vistas: US\n",
      "--------------------------------------------------------------------------------\n",
      "Título: Would You Rather ..? | Fantasy Vacation 🧙✨💭 | The Quiz Challenge\n",
      "Vistas: 394\n",
      "Tiempo de reproducción: 12.04 horas\n",
      "Tasa de clics: 3.05%\n",
      "Categoría: Juegos Would You Rather\n",
      "País con más vistas: US\n",
      "--------------------------------------------------------------------------------\n",
      "\n",
      "\n",
      "Cluster 3:\n",
      "================================================================================\n",
      "\n",
      "Número de videos en el cluster: 1\n",
      "\n",
      "Promedios del cluster:\n",
      "Vistas promedio: 6,961.00\n",
      "Tiempo de reproducción promedio: 91.86 horas\n",
      "Tasa de clics promedio: 1.89%\n",
      "Porcentaje de Shorts: 0.00%\n",
      "Porcentaje con emojis: 0.00%\n",
      "Porcentaje con hashtags: 0.00%\n",
      "\n",
      "Top 5 videos en este cluster:\n",
      "--------------------------------------------------------------------------------\n",
      "Título: Olympics Quiz | Facts Quiz\n",
      "Vistas: 6,961\n",
      "Tiempo de reproducción: 91.86 horas\n",
      "Tasa de clics: 1.89%\n",
      "Categoría: Deportes y Eventos Internacionales\n",
      "País con más vistas: US\n",
      "--------------------------------------------------------------------------------\n"
     ]
    }
   ],
   "source": [
    "data['Cluster'] = cluster_labels\n",
    "\n",
    "for cluster in range(optimal_k):\n",
    "    print(f\"\\n\\nCluster {cluster}:\")\n",
    "    print(\"=\" * 80)\n",
    "    cluster_data = data[data['Cluster'] == cluster].sort_values(by='Vistas', ascending=False)\n",
    "    \n",
    "    # Imprimir resumen del cluster\n",
    "    print(f\"\\nNúmero de videos en el cluster: {len(cluster_data)}\")\n",
    "    print(\"\\nPromedios del cluster:\")\n",
    "    print(f\"Vistas promedio: {cluster_data['Vistas'].mean():,.2f}\")\n",
    "    print(f\"Tiempo de reproducción promedio: {cluster_data['Tiempo de reproducción (horas)'].mean():.2f} horas\")\n",
    "    print(f\"Tasa de clics promedio: {cluster_data['Tasa de clics de las impresiones (%)'].mean():.2f}%\")\n",
    "    \n",
    "    if 'is_short' in data.columns:\n",
    "        print(f\"Porcentaje de Shorts: {(cluster_data['is_short'] == True).mean() * 100:.2f}%\")\n",
    "    if 'has_emojis' in data.columns:\n",
    "        print(f\"Porcentaje con emojis: {(cluster_data['has_emojis'] == True).mean() * 100:.2f}%\")\n",
    "    if 'has_hashtags' in data.columns:\n",
    "        print(f\"Porcentaje con hashtags: {(cluster_data['has_hashtags'] == True).mean() * 100:.2f}%\")\n",
    "    \n",
    "    print(\"\\nTop 5 videos en este cluster:\")\n",
    "    print(\"-\" * 80)\n",
    "    for idx, row in cluster_data.head().iterrows():\n",
    "        print(f\"Título: {row['Título del video']}\")\n",
    "        print(f\"Vistas: {row['Vistas']:,.0f}\")\n",
    "        print(f\"Tiempo de reproducción: {row['Tiempo de reproducción (horas)']:.2f} horas\")\n",
    "        print(f\"Tasa de clics: {row['Tasa de clics de las impresiones (%)']}%\")\n",
    "        if 'Categoría' in row:\n",
    "            print(f\"Categoría: {row['Categoría']}\")\n",
    "        if 'country_with_max_views' in row:\n",
    "            print(f\"País con más vistas: {row['country_with_max_views']}\")\n",
    "        print(\"-\" * 80)\n"
   ]
  },
  {
   "cell_type": "code",
   "execution_count": 14,
   "metadata": {
    "cell_id": "6d012abc00134aebaea5a90dde10a2e2",
    "deepnote_cell_type": "code",
    "execution_context_id": "6ad47fc0-e9a1-4bc1-b040-6bf7ac42a285",
    "execution_millis": 1166,
    "execution_start": 1732672345771,
    "source_hash": "e0637954"
   },
   "outputs": [
    {
     "data": {
      "image/png": "[encoded data removed]",
      "text/plain": [
       "<Figure size 1500x500 with 2 Axes>"
      ]
     },
     "metadata": {
      "image/png": {
       "height": 490,
       "width": 1001
      }
     },
     "output_type": "display_data"
    }
   ],
   "source": [
    "# Visualización de la distribución de videos por cluster\n",
    "plt.figure(figsize=(15, 5))\n",
    "\n",
    "# Gráfico 1: Distribución de videos por cluster\n",
    "plt.subplot(1, 3, 1)\n",
    "cluster_sizes = data['Cluster'].value_counts().sort_index()\n",
    "plt.bar(cluster_sizes.index, cluster_sizes.values)\n",
    "plt.title('Distribución de Videos por Cluster')\n",
    "plt.xlabel('Cluster')\n",
    "plt.ylabel('Número de Videos')\n",
    "\n",
    "# Gráfico 2: Proporción de Shorts por cluster (si existe)\n",
    "if 'is_short' in data.columns:\n",
    "    plt.subplot(1, 3, 2)\n",
    "    shorts_prop = data.groupby('Cluster')['is_short'].mean()\n",
    "    plt.bar(shorts_prop.index, shorts_prop.values * 100)\n",
    "    plt.title('Proporción de Shorts por Cluster')\n",
    "    plt.xlabel('Cluster')\n",
    "    plt.ylabel('Porcentaje de Shorts')\n",
    "\n",
    "plt.tight_layout()\n",
    "plt.show()"
   ]
  },
  {
   "cell_type": "code",
   "execution_count": 15,
   "metadata": {
    "cell_id": "bd084307865c4eb5935abad82fa2a808",
    "deepnote_cell_type": "code",
    "execution_context_id": "6ad47fc0-e9a1-4bc1-b040-6bf7ac42a285",
    "execution_millis": 766,
    "execution_start": 1732672346978,
    "source_hash": "f90090c9"
   },
   "outputs": [
    {
     "data": {
      "image/png": "[encoded data removed]",
      "text/plain": [
       "<Figure size 1000x700 with 2 Axes>"
      ]
     },
     "metadata": {
      "image/png": {
       "height": 624,
       "width": 806
      }
     },
     "output_type": "display_data"
    }
   ],
   "source": [
    "# Gráfico de dispersión de los clusters\n",
    "plt.figure(figsize=(10, 7))\n",
    "plt.scatter(features_pca[:, 0], features_pca[:, 1], c=cluster_labels, cmap='viridis', marker='o')\n",
    "plt.title('Visualización de Clusters')\n",
    "plt.xlabel('Componente Principal 1')\n",
    "plt.ylabel('Componente Principal 2')\n",
    "plt.colorbar(label='Cluster')\n",
    "plt.show()"
   ]
  },
  {
   "cell_type": "code",
   "execution_count": 16,
   "metadata": {
    "cell_id": "e8d084e6dd5c42919505fa86d36758d5",
    "deepnote_cell_type": "code",
    "execution_context_id": "6ad47fc0-e9a1-4bc1-b040-6bf7ac42a285",
    "execution_millis": 0,
    "execution_start": 1732672347791,
    "source_hash": "25e5189c"
   },
   "outputs": [
    {
     "name": "stdout",
     "output_type": "stream",
     "text": [
      "\n",
      "Varianza explicada por cada componente:\n",
      "Componente 1: 0.2746 (27.46%)\n",
      "Componente 2: 0.1585 (15.85%)\n",
      "Varianza total explicada: 43.31%\n"
     ]
    }
   ],
   "source": [
    "# Mostrar varianza explicada\n",
    "print(\"\\nVarianza explicada por cada componente:\")\n",
    "for i, var in enumerate(pca.explained_variance_ratio_):\n",
    "    print(f\"Componente {i+1}: {var:.4f} ({var*100:.2f}%)\")\n",
    "print(f\"Varianza total explicada: {sum(pca.explained_variance_ratio_)*100:.2f}%\")"
   ]
  },
  {
   "cell_type": "code",
   "execution_count": 17,
   "metadata": {
    "cell_id": "7318df4058ac4e29a5e92c1a63f1f297",
    "deepnote_cell_type": "code",
    "execution_context_id": "6ad47fc0-e9a1-4bc1-b040-6bf7ac42a285",
    "execution_millis": 1,
    "execution_start": 1732672347847,
    "source_hash": "7b58a39c"
   },
   "outputs": [
    {
     "name": "stdout",
     "output_type": "stream",
     "text": [
      "\n",
      "Distribución de categorías por cluster:\n",
      "\n",
      "Cluster 0:\n",
      "Categoría\n",
      "Películas y Cultura Pop    2\n",
      "Geografía y Banderas       1\n",
      "Name: count, dtype: int64\n",
      "\n",
      "Cluster 1:\n",
      "Categoría\n",
      "Deportes y Eventos Internacionales    8\n",
      "Ciencia y Naturaleza                  6\n",
      "Geografía y Banderas                  3\n",
      "Historia y Sociedad                   1\n",
      "Películas y Cultura Pop               1\n",
      "Name: count, dtype: int64\n",
      "\n",
      "Cluster 2:\n",
      "Categoría\n",
      "Juegos Would You Rather      4\n",
      "Películas y Cultura Pop      3\n",
      "Ciencia y Naturaleza         2\n",
      "Especiales y Festividades    1\n",
      "Name: count, dtype: int64\n",
      "\n",
      "Cluster 3:\n",
      "Categoría\n",
      "Deportes y Eventos Internacionales    1\n",
      "Name: count, dtype: int64\n"
     ]
    }
   ],
   "source": [
    "# Análisis adicional de características categóricas por cluster\n",
    "if 'Categoría' in data.columns:\n",
    "    print(\"\\nDistribución de categorías por cluster:\")\n",
    "    for cluster in range(optimal_k):\n",
    "        print(f\"\\nCluster {cluster}:\")\n",
    "        print(data[data['Cluster'] == cluster]['Categoría'].value_counts().head())"
   ]
  },
  {
   "cell_type": "markdown",
   "metadata": {
    "cell_id": "26d5ddd57d06450ea2f54123ba605a18",
    "deepnote_cell_type": "text-cell-h1",
    "formattedRanges": []
   },
   "source": [
    "# 8. Interpretación de Resultados\r"
   ]
  },
  {
   "cell_type": "markdown",
   "metadata": {
    "cell_id": "d293f91c51b542dc8bc9caf8fd009a22",
    "deepnote_cell_type": "text-cell-h3",
    "formattedRanges": []
   },
   "source": [
    "### Resultados del Clustering\r"
   ]
  },
  {
   "cell_type": "markdown",
   "metadata": {
    "cell_id": "89e83f118a8845dcb939ed047825c50f",
    "deepnote_cell_type": "markdown"
   },
   "source": [
    "### Cluster 0: Videos de Juegos \"Would You Rather\""
   ]
  },
  {
   "cell_type": "markdown",
   "metadata": {
    "cell_id": "17c23e9c6dfa43489778dcb794075ed0",
    "deepnote_cell_type": "markdown"
   },
   "source": [
    "**Número de videos en el clúster:** 10\n",
    "\n",
    "**Promedios del clúster:**\n",
    "\n",
    "- Vistas promedio: 372.00\n",
    "- Tiempo de reproducción promedio: 8.17 horas\n",
    "- Tasa de clics promedio: 3.32%\n",
    "- Porcentaje de Shorts: 30.00%\n",
    "- Porcentaje con emojis: 50.00%\n",
    "- Porcentaje con hashtags: 20.00%"
   ]
  },
  {
   "cell_type": "markdown",
   "metadata": {
    "cell_id": "014c0e985119422dbd3e57d9c304d932",
    "deepnote_cell_type": "markdown"
   },
   "source": [
    "### Top 5 videos en este cluster:\n",
    "\n",
    "**1. Título: Would You Rather... Hardest Choices Edition**\n",
    "\n",
    "- Vistas: 639\n",
    "- Tiempo de reproducción: 25.61 horas\n",
    "- Tasa de clics: 2.42%\n",
    "- Categoría: Juegos Would You Rather\n",
    "- País con más vistas: US\n",
    "\n",
    "**2. Título: Would You Rather ... 5 Tough Choices! 🤯 #shorts #wouldyourather**\n",
    "\n",
    "- Vistas: 560\n",
    "- Tiempo de reproducción: 3.17 horas\n",
    "- Tasa de clics: 5.19%\n",
    "- Categoría: Juegos Would You Rather\n",
    "- País con más vistas: US\n",
    "\n",
    "**3. Título: Halloween SPECIAL EDITION Choose one button: Yes ✅ or No 🚫**\n",
    "\n",
    "- Vistas: 559\n",
    "- Tiempo de reproducción: 11.90 horas\n",
    "- Tasa de clics: 4.38%\n",
    "- Categoría: Especiales y Festividades\n",
    "- País con más vistas: US\n",
    "\n",
    "**4. Título: Would You Rather...? 🚀 Space Edition! #Shorts**\n",
    "\n",
    "- Vistas: 469\n",
    "- Tiempo de reproducción: 3.02 horas\n",
    "- Tasa de clics: 4.31%\n",
    "- Categoría: Ciencia y Naturaleza\n",
    "- País con más vistas: US\n",
    "\n",
    "**5. Título: Would You Rather ..? | Fantasy Vacation 🧙✨💭 | The Quiz Challenge**\n",
    "\n",
    "- Vistas: 394\n",
    "- Tiempo de reproducción: 12.04 horas\n",
    "- Tasa de clics: 3.05%\n",
    "- Categoría: Juegos Would You Rather\n",
    "- País con más vistas: US"
   ]
  },
  {
   "cell_type": "markdown",
   "metadata": {
    "cell_id": "65bda1c5a0b140fb966dea4d8e7f9484",
    "deepnote_cell_type": "markdown"
   },
   "source": [
    "### Análisis e Interpretación del Cluster 0:"
   ]
  },
  {
   "cell_type": "markdown",
   "metadata": {
    "cell_id": "53ca3a2df421410e8e1c7b9223d73a90",
    "deepnote_cell_type": "text-cell-p",
    "formattedRanges": []
   },
   "source": [
    "\r",
    "Este clúster se centra en videos interactivos y entretenidos, específicamente en el formato \"Would You Rather\". La alta tasa de clics en algunos videos sugiere que este tipo de contenido es atractivo para la audiencia, especialmente en los temas relacionados con festividades y ciencia."
   ]
  },
  {
   "cell_type": "markdown",
   "metadata": {
    "cell_id": "7f364cda66a2472eb9167b6467e6da12",
    "deepnote_cell_type": "markdown"
   },
   "source": [
    "### Cluster 1: Video Único sobre Deportes"
   ]
  },
  {
   "cell_type": "markdown",
   "metadata": {
    "cell_id": "6d673af4b2cd415fa655ee2d392a28e9",
    "deepnote_cell_type": "markdown"
   },
   "source": [
    "**Número de videos en el clúster:** 1\n",
    "\n",
    "**Promedios del clúster:**\n",
    "\n",
    "- Vistas promedio: 6,961.00\n",
    "- Tiempo de reproducción promedio: 91.86 horas\n",
    "- Tasa de clics promedio: 1.89%\n",
    "- Porcentaje de Shorts: 0.00%\n",
    "- Porcentaje con emojis: 0.00%\n",
    "- Porcentaje con hashtags: 0.00%"
   ]
  },
  {
   "cell_type": "markdown",
   "metadata": {
    "cell_id": "15118eab5dde4267ae3ff41f3d6a0113",
    "deepnote_cell_type": "markdown"
   },
   "source": [
    "### Top Video en este cluster:\n",
    "\n",
    "**1. Título: Olympics Quiz | Facts Quiz**\n",
    "\n",
    "- Vistas: 6,961\n",
    "- Tiempo de reproducción: 91.86 horas\n",
    "- Tasa de clics: 1.89%\n",
    "- Categoría: Deportes y Eventos Internacionales\n",
    "- País con más vistas: US\n"
   ]
  },
  {
   "cell_type": "markdown",
   "metadata": {
    "cell_id": "4f1fa64e34174055b143e9caec8b9ed0",
    "deepnote_cell_type": "markdown"
   },
   "source": [
    "### Análisis e Interpretación del Cluster 1:\n",
    "\n",
    "Este clúster contiene un solo video que ha tenido un rendimiento excepcionalmente alto en términos de vistas y tiempo de reproducción, lo que indica que el contenido relacionado con eventos deportivos internacionales tiene un gran potencial para atraer a la audiencia.\n"
   ]
  },
  {
   "cell_type": "markdown",
   "metadata": {
    "cell_id": "2329f36576614088b24574ecc2fc6e73",
    "deepnote_cell_type": "markdown"
   },
   "source": [
    "### Cluster 2: Videos Cortos sobre Deportes y Naturaleza"
   ]
  },
  {
   "cell_type": "markdown",
   "metadata": {
    "cell_id": "c01c2d4536b94015b99927c698c71d62",
    "deepnote_cell_type": "markdown"
   },
   "source": [
    "**Número de videos en el clúster:** 21\n",
    "\n",
    "**Promedios del clúster:**\n",
    "\n",
    "- Vistas promedio: 217.05\n",
    "- Tiempo de reproducción promedio: 2.02 horas\n",
    "- Tasa de clics promedio: 3.37%\n",
    "- Porcentaje de Shorts: 52.38%\n",
    "- Porcentaje con emojis: 0.00%\n",
    "- Porcentaje con hashtags: 9.52%"
   ]
  },
  {
   "cell_type": "markdown",
   "metadata": {
    "cell_id": "cd13cd82f4d040568dc67a85ee2388a0",
    "deepnote_cell_type": "markdown"
   },
   "source": [
    "### Top Videos en este cluster:\n",
    "\n",
    "**1. Título: Would you rather… Olympics**\n",
    "\n",
    "- Vistas: 597\n",
    "\n",
    "**2. Título: Birds Quiz**\n",
    "\n",
    "- Vistas: 501\n",
    "\n",
    "**3. Título: Would you rather... Olympics 2024 Moments #olympicgames #wouldyourather**\n",
    "\n",
    "- Vistas: 472"
   ]
  },
  {
   "cell_type": "markdown",
   "metadata": {
    "cell_id": "071487622d5d461195853563a28f743f",
    "deepnote_cell_type": "markdown"
   },
   "source": [
    "### Análisis e Interpretación del Cluster 2:\n",
    "\n",
    "Este clúster muestra una mezcla interesante entre contenido corto (Shorts) y temas deportivos, lo que sugiere que los formatos breves son atractivos para la audiencia, especialmente cuando se combinan con eventos populares como los Juegos Olímpicos."
   ]
  },
  {
   "cell_type": "markdown",
   "metadata": {
    "cell_id": "25834efbe1034453a9fe706a9bb31b66",
    "deepnote_cell_type": "markdown"
   },
   "source": [
    "### Cluster 3: Videos sobre Cultura Pop"
   ]
  },
  {
   "cell_type": "markdown",
   "metadata": {
    "cell_id": "9abc027391df481a86331077a8db6a3b",
    "deepnote_cell_type": "markdown"
   },
   "source": [
    "**Número de videos en el clúster:** 3\n",
    "\n",
    "**Promedios del clúster:**\n",
    "\n",
    "- Vistas promedio: 2,338.00\n",
    "- Tiempo de reproducción promedio: 63.97 horas\n",
    "- Tasa de clics promedio: 4.55%\n",
    "- Porcentaje de Shorts: 0.00%\n",
    "- Porcentaje con emojis: 0.00%\n",
    "- Porcentaje con hashtags: 0.00%"
   ]
  },
  {
   "cell_type": "markdown",
   "metadata": {
    "cell_id": "0f5552b53a3f4bdea5510c5611f53292",
    "deepnote_cell_type": "markdown"
   },
   "source": [
    "### Top Videos en este cluster:\n",
    "\n",
    "**1. Título: Harry Potter EXPERTS Only! Tricky Questions Ahead!**\n",
    "\n",
    "- Vistas: 3,246\n",
    "\n",
    "**2. Título: The Most Difficult Flag Quiz Ever (Can You Get Them All?)**\n",
    "\n",
    "- Vistas: 2,252\n",
    "\n",
    "**3. Título: Harry Potter | Facts Quiz**\n",
    "\n",
    "- Vistas: 1,516"
   ]
  },
  {
   "cell_type": "markdown",
   "metadata": {
    "cell_id": "909f7358a80c473690c5367e1d5ea93b",
    "deepnote_cell_type": "markdown"
   },
   "source": [
    "### Análisis e Interpretación del Cluster 3:\n",
    "\n",
    "Los videos en este clúster están centrados en temas culturales populares, como Harry Potter y geografía, lo que indica que el contenido relacionado con la cultura pop puede generar un alto interés y participación."
   ]
  },
  {
   "cell_type": "markdown",
   "metadata": {
    "cell_id": "c6a0e9b31571420894e8312e8a131b65",
    "deepnote_cell_type": "markdown"
   },
   "source": [
    "## Distribución de Categorías por Clúster\n"
   ]
  },
  {
   "cell_type": "code",
   "execution_count": 3,
   "metadata": {
    "cell_id": "b29fcc99d99b4aeb93f65a75011e1781",
    "deepnote_cell_type": "code",
    "execution_context_id": "8021125d-b894-465f-8894-0c7c30edd156",
    "execution_millis": 26,
    "execution_start": 1732710694728,
    "source_hash": "e4019389"
   },
   "outputs": [
    {
     "data": {
      "application/vnd.deepnote.dataframe.v3+json": {
       "column_count": 7,
       "columns": [
        {
         "dtype": "int64",
         "name": "Juegos Would You Rather",
         "stats": {
          "histogram": [
           {
            "bin_end": 0.4,
            "bin_start": 0,
            "count": 3
           },
           {
            "bin_end": 0.8,
            "bin_start": 0.4,
            "count": 0
           },
           {
            "bin_end": 1.2000000000000002,
            "bin_start": 0.8,
            "count": 0
           },
           {
            "bin_end": 1.6,
            "bin_start": 1.2000000000000002,
            "count": 0
           },
           {
            "bin_end": 2,
            "bin_start": 1.6,
            "count": 0
           },
           {
            "bin_end": 2.4000000000000004,
            "bin_start": 2,
            "count": 0
           },
           {
            "bin_end": 2.8000000000000003,
            "bin_start": 2.4000000000000004,
            "count": 0
           },
           {
            "bin_end": 3.2,
            "bin_start": 2.8000000000000003,
            "count": 0
           },
           {
            "bin_end": 3.6,
            "bin_start": 3.2,
            "count": 0
           },
           {
            "bin_end": 4,
            "bin_start": 3.6,
            "count": 1
           }
          ],
          "max": "4",
          "min": "0",
          "nan_count": 0,
          "unique_count": 2
         }
        },
        {
         "dtype": "int64",
         "name": "Películas y Cultura Pop",
         "stats": {
          "histogram": [
           {
            "bin_end": 0.3,
            "bin_start": 0,
            "count": 1
           },
           {
            "bin_end": 0.6,
            "bin_start": 0.3,
            "count": 0
           },
           {
            "bin_end": 0.8999999999999999,
            "bin_start": 0.6,
            "count": 0
           },
           {
            "bin_end": 1.2,
            "bin_start": 0.8999999999999999,
            "count": 1
           },
           {
            "bin_end": 1.5,
            "bin_start": 1.2,
            "count": 0
           },
           {
            "bin_end": 1.7999999999999998,
            "bin_start": 1.5,
            "count": 0
           },
           {
            "bin_end": 2.1,
            "bin_start": 1.7999999999999998,
            "count": 1
           },
           {
            "bin_end": 2.4,
            "bin_start": 2.1,
            "count": 0
           },
           {
            "bin_end": 2.6999999999999997,
            "bin_start": 2.4,
            "count": 0
           },
           {
            "bin_end": 3,
            "bin_start": 2.6999999999999997,
            "count": 1
           }
          ],
          "max": "3",
          "min": "0",
          "nan_count": 0,
          "unique_count": 4
         }
        },
        {
         "dtype": "int64",
         "name": "Ciencia y Naturaleza",
         "stats": {
          "histogram": [
           {
            "bin_end": 0.6,
            "bin_start": 0,
            "count": 2
           },
           {
            "bin_end": 1.2,
            "bin_start": 0.6,
            "count": 0
           },
           {
            "bin_end": 1.7999999999999998,
            "bin_start": 1.2,
            "count": 0
           },
           {
            "bin_end": 2.4,
            "bin_start": 1.7999999999999998,
            "count": 1
           },
           {
            "bin_end": 3,
            "bin_start": 2.4,
            "count": 0
           },
           {
            "bin_end": 3.5999999999999996,
            "bin_start": 3,
            "count": 0
           },
           {
            "bin_end": 4.2,
            "bin_start": 3.5999999999999996,
            "count": 0
           },
           {
            "bin_end": 4.8,
            "bin_start": 4.2,
            "count": 0
           },
           {
            "bin_end": 5.3999999999999995,
            "bin_start": 4.8,
            "count": 0
           },
           {
            "bin_end": 6,
            "bin_start": 5.3999999999999995,
            "count": 1
           }
          ],
          "max": "6",
          "min": "0",
          "nan_count": 0,
          "unique_count": 3
         }
        },
        {
         "dtype": "int64",
         "name": "Especiales y Festividades",
         "stats": {
          "histogram": [
           {
            "bin_end": 0.1,
            "bin_start": 0,
            "count": 3
           },
           {
            "bin_end": 0.2,
            "bin_start": 0.1,
            "count": 0
           },
           {
            "bin_end": 0.30000000000000004,
            "bin_start": 0.2,
            "count": 0
           },
           {
            "bin_end": 0.4,
            "bin_start": 0.30000000000000004,
            "count": 0
           },
           {
            "bin_end": 0.5,
            "bin_start": 0.4,
            "count": 0
           },
           {
            "bin_end": 0.6000000000000001,
            "bin_start": 0.5,
            "count": 0
           },
           {
            "bin_end": 0.7000000000000001,
            "bin_start": 0.6000000000000001,
            "count": 0
           },
           {
            "bin_end": 0.8,
            "bin_start": 0.7000000000000001,
            "count": 0
           },
           {
            "bin_end": 0.9,
            "bin_start": 0.8,
            "count": 0
           },
           {
            "bin_end": 1,
            "bin_start": 0.9,
            "count": 1
           }
          ],
          "max": "1",
          "min": "0",
          "nan_count": 0,
          "unique_count": 2
         }
        },
        {
         "dtype": "int64",
         "name": "Deportes y Eventos Internacionales",
         "stats": {
          "histogram": [
           {
            "bin_end": 0.8,
            "bin_start": 0,
            "count": 2
           },
           {
            "bin_end": 1.6,
            "bin_start": 0.8,
            "count": 1
           },
           {
            "bin_end": 2.4000000000000004,
            "bin_start": 1.6,
            "count": 0
           },
           {
            "bin_end": 3.2,
            "bin_start": 2.4000000000000004,
            "count": 0
           },
           {
            "bin_end": 4,
            "bin_start": 3.2,
            "count": 0
           },
           {
            "bin_end": 4.800000000000001,
            "bin_start": 4,
            "count": 0
           },
           {
            "bin_end": 5.6000000000000005,
            "bin_start": 4.800000000000001,
            "count": 0
           },
           {
            "bin_end": 6.4,
            "bin_start": 5.6000000000000005,
            "count": 0
           },
           {
            "bin_end": 7.2,
            "bin_start": 6.4,
            "count": 0
           },
           {
            "bin_end": 8,
            "bin_start": 7.2,
            "count": 1
           }
          ],
          "max": "8",
          "min": "0",
          "nan_count": 0,
          "unique_count": 3
         }
        },
        {
         "dtype": "int64",
         "name": "Geografía y Banderas",
         "stats": {
          "histogram": [
           {
            "bin_end": 0.3,
            "bin_start": 0,
            "count": 2
           },
           {
            "bin_end": 0.6,
            "bin_start": 0.3,
            "count": 0
           },
           {
            "bin_end": 0.8999999999999999,
            "bin_start": 0.6,
            "count": 0
           },
           {
            "bin_end": 1.2,
            "bin_start": 0.8999999999999999,
            "count": 1
           },
           {
            "bin_end": 1.5,
            "bin_start": 1.2,
            "count": 0
           },
           {
            "bin_end": 1.7999999999999998,
            "bin_start": 1.5,
            "count": 0
           },
           {
            "bin_end": 2.1,
            "bin_start": 1.7999999999999998,
            "count": 0
           },
           {
            "bin_end": 2.4,
            "bin_start": 2.1,
            "count": 0
           },
           {
            "bin_end": 2.6999999999999997,
            "bin_start": 2.4,
            "count": 0
           },
           {
            "bin_end": 3,
            "bin_start": 2.6999999999999997,
            "count": 1
           }
          ],
          "max": "3",
          "min": "0",
          "nan_count": 0,
          "unique_count": 3
         }
        },
        {
         "dtype": "int64",
         "name": "Historia y Sociedad",
         "stats": {
          "histogram": [
           {
            "bin_end": 0.1,
            "bin_start": 0,
            "count": 3
           },
           {
            "bin_end": 0.2,
            "bin_start": 0.1,
            "count": 0
           },
           {
            "bin_end": 0.30000000000000004,
            "bin_start": 0.2,
            "count": 0
           },
           {
            "bin_end": 0.4,
            "bin_start": 0.30000000000000004,
            "count": 0
           },
           {
            "bin_end": 0.5,
            "bin_start": 0.4,
            "count": 0
           },
           {
            "bin_end": 0.6000000000000001,
            "bin_start": 0.5,
            "count": 0
           },
           {
            "bin_end": 0.7000000000000001,
            "bin_start": 0.6000000000000001,
            "count": 0
           },
           {
            "bin_end": 0.8,
            "bin_start": 0.7000000000000001,
            "count": 0
           },
           {
            "bin_end": 0.9,
            "bin_start": 0.8,
            "count": 0
           },
           {
            "bin_end": 1,
            "bin_start": 0.9,
            "count": 1
           }
          ],
          "max": "1",
          "min": "0",
          "nan_count": 0,
          "unique_count": 2
         }
        },
        {
         "dtype": "object",
         "name": "_deepnote_index_column"
        }
       ],
       "row_count": 4,
       "rows": [
        {
         "Ciencia y Naturaleza": 2,
         "Deportes y Eventos Internacionales": 0,
         "Especiales y Festividades": 1,
         "Geografía y Banderas": 0,
         "Historia y Sociedad": 0,
         "Juegos Would You Rather": 4,
         "Películas y Cultura Pop": 3,
         "_deepnote_index_column": "Cluster 0"
        },
        {
         "Ciencia y Naturaleza": 0,
         "Deportes y Eventos Internacionales": 1,
         "Especiales y Festividades": 0,
         "Geografía y Banderas": 0,
         "Historia y Sociedad": 0,
         "Juegos Would You Rather": 0,
         "Películas y Cultura Pop": 0,
         "_deepnote_index_column": "Cluster 1"
        },
        {
         "Ciencia y Naturaleza": 6,
         "Deportes y Eventos Internacionales": 8,
         "Especiales y Festividades": 0,
         "Geografía y Banderas": 3,
         "Historia y Sociedad": 1,
         "Juegos Would You Rather": 0,
         "Películas y Cultura Pop": 1,
         "_deepnote_index_column": "Cluster 2"
        },
        {
         "Ciencia y Naturaleza": 0,
         "Deportes y Eventos Internacionales": 0,
         "Especiales y Festividades": 0,
         "Geografía y Banderas": 1,
         "Historia y Sociedad": 0,
         "Juegos Would You Rather": 0,
         "Películas y Cultura Pop": 2,
         "_deepnote_index_column": "Cluster 3"
        }
       ]
      },
      "text/html": [
       "<div>\n",
       "<style scoped>\n",
       "    .dataframe tbody tr th:only-of-type {\n",
       "        vertical-align: middle;\n",
       "    }\n",
       "\n",
       "    .dataframe tbody tr th {\n",
       "        vertical-align: top;\n",
       "    }\n",
       "\n",
       "    .dataframe thead th {\n",
       "        text-align: right;\n",
       "    }\n",
       "</style>\n",
       "<table border=\"1\" class=\"dataframe\">\n",
       "  <thead>\n",
       "    <tr style=\"text-align: right;\">\n",
       "      <th></th>\n",
       "      <th>Juegos Would You Rather</th>\n",
       "      <th>Películas y Cultura Pop</th>\n",
       "      <th>Ciencia y Naturaleza</th>\n",
       "      <th>Especiales y Festividades</th>\n",
       "      <th>Deportes y Eventos Internacionales</th>\n",
       "      <th>Geografía y Banderas</th>\n",
       "      <th>Historia y Sociedad</th>\n",
       "    </tr>\n",
       "    <tr>\n",
       "      <th>Cluster</th>\n",
       "      <th></th>\n",
       "      <th></th>\n",
       "      <th></th>\n",
       "      <th></th>\n",
       "      <th></th>\n",
       "      <th></th>\n",
       "      <th></th>\n",
       "    </tr>\n",
       "  </thead>\n",
       "  <tbody>\n",
       "    <tr>\n",
       "      <th>Cluster 0</th>\n",
       "      <td>4</td>\n",
       "      <td>3</td>\n",
       "      <td>2</td>\n",
       "      <td>1</td>\n",
       "      <td>0</td>\n",
       "      <td>0</td>\n",
       "      <td>0</td>\n",
       "    </tr>\n",
       "    <tr>\n",
       "      <th>Cluster 1</th>\n",
       "      <td>0</td>\n",
       "      <td>0</td>\n",
       "      <td>0</td>\n",
       "      <td>0</td>\n",
       "      <td>1</td>\n",
       "      <td>0</td>\n",
       "      <td>0</td>\n",
       "    </tr>\n",
       "    <tr>\n",
       "      <th>Cluster 2</th>\n",
       "      <td>0</td>\n",
       "      <td>1</td>\n",
       "      <td>6</td>\n",
       "      <td>0</td>\n",
       "      <td>8</td>\n",
       "      <td>3</td>\n",
       "      <td>1</td>\n",
       "    </tr>\n",
       "    <tr>\n",
       "      <th>Cluster 3</th>\n",
       "      <td>0</td>\n",
       "      <td>2</td>\n",
       "      <td>0</td>\n",
       "      <td>0</td>\n",
       "      <td>0</td>\n",
       "      <td>1</td>\n",
       "      <td>0</td>\n",
       "    </tr>\n",
       "  </tbody>\n",
       "</table>\n",
       "</div>"
      ],
      "text/plain": [
       "           Juegos Would You Rather  Películas y Cultura Pop  \\\n",
       "Cluster                                                       \n",
       "Cluster 0                        4                        3   \n",
       "Cluster 1                        0                        0   \n",
       "Cluster 2                        0                        1   \n",
       "Cluster 3                        0                        2   \n",
       "\n",
       "           Ciencia y Naturaleza  Especiales y Festividades  \\\n",
       "Cluster                                                      \n",
       "Cluster 0                     2                          1   \n",
       "Cluster 1                     0                          0   \n",
       "Cluster 2                     6                          0   \n",
       "Cluster 3                     0                          0   \n",
       "\n",
       "           Deportes y Eventos Internacionales  Geografía y Banderas  \\\n",
       "Cluster                                                               \n",
       "Cluster 0                                   0                     0   \n",
       "Cluster 1                                   1                     0   \n",
       "Cluster 2                                   8                     3   \n",
       "Cluster 3                                   0                     1   \n",
       "\n",
       "           Historia y Sociedad  \n",
       "Cluster                         \n",
       "Cluster 0                    0  \n",
       "Cluster 1                    0  \n",
       "Cluster 2                    1  \n",
       "Cluster 3                    0  "
      ]
     },
     "metadata": {},
     "output_type": "display_data"
    }
   ],
   "source": [
    "data = {\n",
    "    'Cluster': ['Cluster 0', 'Cluster 1', 'Cluster 2', 'Cluster 3'],\n",
    "    'Juegos Would You Rather': [4, 0, 0, 0],\n",
    "    'Películas y Cultura Pop': [3, 0, 1, 2],\n",
    "    'Ciencia y Naturaleza': [2, 0, 6, 0],\n",
    "    'Especiales y Festividades': [1, 0, 0, 0],\n",
    "    'Deportes y Eventos Internacionales': [0, 1, 8, 0],\n",
    "    'Geografía y Banderas': [0, 0, 3, 1],\n",
    "    'Historia y Sociedad': [0, 0, 1, 0]\n",
    "}\n",
    "\n",
    "df = pd.DataFrame(data)\n",
    "\n",
    "df.set_index('Cluster', inplace=True)\n",
    "\n",
    "from IPython.display import display\n",
    "\n",
    "display(df)"
   ]
  },
  {
   "cell_type": "markdown",
   "metadata": {
    "cell_id": "423edf88cb4a418b913d47e3e2b8a123",
    "deepnote_cell_type": "markdown"
   },
   "source": [
    "## Conclusiones Generales"
   ]
  },
  {
   "cell_type": "markdown",
   "metadata": {
    "cell_id": "85e572eb242f47339ddd20aa9fcbcede",
    "deepnote_cell_type": "markdown"
   },
   "source": [
    "Nuestro proyecto de minería de datos ha logrado construir un modelo eficaz para analizar el contenido de videos del canal The Quiz Challenge, utilizando técnicas de clustering para la identificación de patrones en las preferencias de la audiencia del mismo. A través del análisis, se han obtenido los siguientes hallazgos y recomendaciones clave:\n",
    "\n",
    "**1. Segmentación de Contenido:**\n",
    "\n",
    "- Se identificaron cuatro clústeres distintos que reflejan diferentes tipos de videos y su rendimiento. Esto permite a The Quiz Challenge entender mejor qué formatos y temáticas son más atractivos para su público.\n",
    "\n",
    "**2. Rendimiento de Videos:**\n",
    "\n",
    "- El **Cluster 0**, Centrado en videos interactivos del tipo \"Would You Rather\", mostró un desempeño sólido con un promedio de vistas y tasas de clics relativamente altas. Esto indica que este formato es llamativo para los espectadores.\n",
    "\n",
    "- El **Cluster 1** contiene un video destacado sobre deportes, que ha acumulado un número significativo de vistas, lo que sugiere que el contenido relacionado con eventos deportivos tiene un gran potencial para atraer a una amplia cantidad de personas que les gusta este tema.\n",
    "\n",
    "- El **Cluster 2**, se observa uuna tendencia hacia los videos cortos, en especial aquellos relacionados con deportres y naturaleza, esto demuestra que los formatos breves son efectivos para captar la atención del público.\n",
    "\n",
    "- El **Cluster 3** se enfoca en temas culturales populares, lo que resalta la importancia de incluir contenido relacionado con la cultura pop para aumentar el interés y la participación.\n",
    "\n",
    "**3. Métricas de Evaluación:**\n",
    "\n",
    "- Se utilizaron métricas como la inercia y el coeficiente de silhouette para evaluar la calidad del modelo. Los resultados sugieren que el número óptimo de clústeres fue determinado adecuadamente, lo que valida la efectividad de neustro análisis.\n",
    "\n",
    "**4. Recomendaciones Estratégicas:**\n",
    "\n",
    "- Se recomienda a los autores de The Quiz Challenge enfocar su producción en más contenido interactivo y relacionado con eventos actuales. También se sugiere explorar temas culturales populares para atraer una audiencia más significativa.\n",
    "\n",
    "**5. Trabajo Futuro:**\n",
    "\n",
    "- En futuras investigaciones, se podría considerar la implementación de técnicas avanzadas como el aprendizaje automático supervisado para predecir el rendimiento de nuevos videos basándose en características específicas.\n",
    "\n",
    "- También sería beneficioso realizar un seguimiento continuo del rendimiento del contenido a lo largo del tiempo para ajustar las estrategias según las tendencias emergentes y los cambios en las preferencias del público.\n",
    "\n",
    "- La exploración de nuevos formatos de contenido, como transmisiones en vivo o colaboraciones con otros creadores, podría proporcionar insights adicionales sobre como maximizar el engagement.\n",
    "\n",
    "**Este proyecto no solo ha proporcionado insights valiosos sobre las preferencias del público, sino que también ha establecido una base sólida para guiar futuras decisiones estratégicas en la creación de contenido. La implementación de estas recomendaciones tienen un gran potencial de aumentar significativamente tanto las vistas como los suscriptores del canal, asegurando un crecimiento constantemente sostenible en el competitivo entorno que se presenta en la actualidad.**"
   ]
  },
  {
   "cell_type": "code",
   "execution_count": 18,
   "metadata": {
    "cell_id": "fc0c61a41d724232bcb672fc79f425f0",
    "deepnote_cell_type": "code",
    "execution_context_id": "6ad47fc0-e9a1-4bc1-b040-6bf7ac42a285",
    "execution_millis": 237,
    "execution_start": 1732672347910,
    "source_hash": "a5a4fbc8"
   },
   "outputs": [
    {
     "name": "stdout",
     "output_type": "stream",
     "text": [
      "\n",
      "Resultados guardados en videos_por_cluster.csv\n"
     ]
    }
   ],
   "source": [
    "# Guardar resultados\n",
    "output_file = 'videos_por_cluster.csv'\n",
    "data.to_csv(output_file, index=False)\n",
    "print(f\"\\nResultados guardados en {output_file}\")"
   ]
  },
  {
   "cell_type": "markdown",
   "metadata": {
    "created_in_deepnote_cell": true,
    "deepnote_cell_type": "markdown"
   },
   "source": [
    "<a style='text-decoration:none;line-height:16px;display:flex;color:#5B5B62;padding:10px;justify-content:end;' href='https://deepnote.com?utm_source=created-in-deepnote-cell&projectId=c7185ad9-e843-4b37-8444-ac00db219b39' target=\"_blank\">\n",
    "<img alt='Created in deepnote.com' style='display:inline;max-height:16px;margin:0px;margin-right:7.5px;' src='data:image/svg+xml;base64,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' > </img>\n",
    "Created in <span style='font-weight:600;margin-left:4px;'>Deepnote</span></a>"
   ]
  }
 ],
 "metadata": {
  "deepnote_notebook_id": "db0945af7d6a49fba4dd7442dd7b4774",
  "deepnote_persisted_session": {
   "createdAt": "2024-11-27T04:25:16.429Z"
  },
  "kernelspec": {
   "display_name": "Python 3.12 (r2d2)",
   "language": "python",
   "name": "r2d2"
  },
  "language_info": {
   "codemirror_mode": {
    "name": "ipython",
    "version": 3
   },
   "file_extension": ".py",
   "mimetype": "text/x-python",
   "name": "python",
   "nbconvert_exporter": "python",
   "pygments_lexer": "ipython3",
   "version": "3.12.11"
  }
 },
 "nbformat": 4,
 "nbformat_minor": 4
}
